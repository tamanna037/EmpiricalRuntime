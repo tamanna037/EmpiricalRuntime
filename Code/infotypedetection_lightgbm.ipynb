{
  "nbformat": 4,
  "nbformat_minor": 0,
  "metadata": {
    "colab": {
      "provenance": []
    },
    "kernelspec": {
      "name": "python3",
      "display_name": "Python 3"
    },
    "language_info": {
      "name": "python"
    }
  },
  "cells": [
    {
      "cell_type": "code",
      "execution_count": null,
      "metadata": {
        "id": "IGBdir_zUmdj"
      },
      "outputs": [],
      "source": [
        "from google.colab import drive\n",
        "drive.mount('/content/drive/')\n",
        "project_path = '/content/drive/My Drive/Code Documentation Project/Issue Classification/'"
      ]
    },
    {
      "cell_type": "code",
      "source": [
        "from numpy import loadtxt\n",
        "import pandas as pd\n",
        "from keras.utils.np_utils import to_categorical # convert to one-hot-encoding\n",
        "from sklearn import preprocessing\n",
        "\n",
        "\n",
        "issue_df = pd.read_csv(project_path+'literature_comments_dataset.csv')\n",
        "\n",
        "\n",
        "label_encoder = preprocessing.LabelEncoder()\n",
        "label_encoder.fit(issue_df['Code'])\n",
        "issue_df['Code (Original)'] = issue_df['Code']\n",
        "issue_df['Code'] = label_encoder.transform(issue_df['Code'])\n",
        "\n",
        "#number_of_class\n",
        "class_id_map_df = issue_df.drop_duplicates(subset=['Code'])\n",
        "total_class=len(class_id_map_df)\n",
        "encoded_label_list = class_id_map_df['Code'].to_list()\n",
        "original_label_list = class_id_map_df['Code (Original)'].to_list()\n",
        "class_id_map = dict(zip(encoded_label_list, original_label_list))\n",
        "\n",
        "categ = ['aa','begauth','has_code','first_turn','last_turn']\n",
        "le = preprocessing.LabelEncoder()\n",
        "issue_df[categ] = issue_df[categ].apply(le.fit_transform)\n",
        "\n",
        "print(len(issue_df))\n"
      ],
      "metadata": {
        "id": "q6z6ihOYUqxd"
      },
      "execution_count": null,
      "outputs": []
    },
    {
      "cell_type": "code",
      "source": [
        "# build the lightgbm model\n",
        "from sklearn.metrics import classification_report\n",
        "import lightgbm as lgb\n",
        "\n",
        "\n",
        "train_df=issue_df\n",
        "X_train = train_df[['len','tloc','cloc','tpos1','tpos2','clen','tlen','ppau','npau','aa','begauth','has_code','first_turn','last_turn']] #'Full Length',\n",
        "y_train = train_df['Code']\n",
        "\n",
        "clf = lgb.LGBMClassifier(objective=\"multiclass\", class_weight='balanced', num_classes=13, metric='multi_logloss', feature_pre_filter= False,\n",
        "                             boosting_type=\"gbdt\", lambda_l1=5.6172275504022865e-05, lambda_l2= 0.10617995541784066,feature_fraction= 0.7,\n",
        "                             bagging_fraction= 1.0, bagging_freq= 0, min_child_samples= 20,num_leaves= 127)\n",
        "    \n",
        "clf.fit(X_train, y_train)"
      ],
      "metadata": {
        "id": "EBaGC9-EUu-i"
      },
      "execution_count": null,
      "outputs": []
    },
    {
      "cell_type": "code",
      "source": [
        "\n",
        "test_df = pd.read_csv(project_path+'sentencewithstateruntime.csv')\n",
        "\n",
        "categ = ['aa','begauth','has_code','first_turn','last_turn']\n",
        "le = preprocessing.LabelEncoder()\n",
        "test_df[categ] = test_df[categ].apply(le.fit_transform)\n",
        "\n",
        "print(len(test_df))\n",
        "#y_pred=clf.predict(X_test)\n",
        "X_test = test_df[['len','tloc','cloc','tpos1','tpos2','clen','tlen','ppau','npau','aa','begauth','has_code','first_turn','last_turn']] #'Full Length',\n",
        "\n",
        "y_pred=clf.predict(X_test)\n",
        "label_list = []\n",
        "for i in range(13):\n",
        "  label_list.append(class_id_map[i])\n",
        "pred_labels=[]\n",
        "for e in y_pred:\n",
        "  pred_labels.append(class_id_map[e])  \n",
        "\n",
        "test_df['Code']=pred_labels\n",
        "\n",
        "test_df.Code.value_counts().to_csv(project_path+'infotype_cnt.csv')"
      ],
      "metadata": {
        "id": "_EgW5a1fU64h"
      },
      "execution_count": null,
      "outputs": []
    }
  ]
}